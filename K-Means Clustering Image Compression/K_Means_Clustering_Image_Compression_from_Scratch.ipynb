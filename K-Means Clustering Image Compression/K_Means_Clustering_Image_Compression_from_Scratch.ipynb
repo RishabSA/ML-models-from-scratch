{
  "nbformat": 4,
  "nbformat_minor": 0,
  "metadata": {
    "colab": {
      "provenance": []
    },
    "kernelspec": {
      "name": "python3",
      "display_name": "Python 3"
    },
    "language_info": {
      "name": "python"
    }
  },
  "cells": [
    {
      "cell_type": "code",
      "execution_count": 34,
      "metadata": {
        "id": "t1OZVetnVeVN"
      },
      "outputs": [],
      "source": [
        "import numpy as np"
      ]
    },
    {
      "cell_type": "code",
      "source": [
        "class KMeans():\n",
        "  def __init__(self, n_clusters, max_iter=100, e=0.0001):\n",
        "    \"\"\"\n",
        "    n_clusters: K - Number of clusters\n",
        "    max_iter: Maximum number of iterations\n",
        "    e: Tolerance - Difference between successive distortion values to be considered converged\n",
        "    \"\"\"\n",
        "    self.n_clusters = n_clusters\n",
        "    self.max_iter = max_iter\n",
        "    self.e = e\n",
        "\n",
        "  def fit(self, x):\n",
        "    assert len(x.shape) == 2, \"Fit only takes 2D numpy arrays as input\"\n",
        "\n",
        "    np.random.seed(42)\n",
        "    N, D = x.shape\n",
        "    K = self.n_clusters\n",
        "\n",
        "    # Initialize \\mu_k as random datapoints from x\n",
        "    cluster_centers = np.random.choice(N, size=K, replace=False)\n",
        "    mu = x[cluster_centers, :]\n",
        "\n",
        "    # Intialize the loss function (Distortion Function)\n",
        "    J = np.inf\n",
        "\n",
        "    for i in range(self.max_iter):\n",
        "      # Compure r\n",
        "      r = np.zeros(N)\n",
        "      dist = np.zeros((N, K))\n",
        "\n",
        "      for n in range(N):\n",
        "        for k in range(K):\n",
        "          dist[n, k] = np.inner(mu[k, :] - x[n, :], mu[k, :] - x[n, :])\n",
        "\n",
        "      r = np.argmin(dist, axis=1)\n",
        "\n",
        "      J_new = 0\n",
        "      for n in range(N):\n",
        "        J_new += dist[n, r[n]]\n",
        "\n",
        "      # Computed the average distortion\n",
        "      J_new /= N\n",
        "\n",
        "      print(f\"Iteration {i}: J = {J}\")\n",
        "\n",
        "      # If it is less the tolerance, it has reached convergence\n",
        "      if np.absolute(J - J_new) <= self.e:\n",
        "        return (mu, r, i)\n",
        "\n",
        "      J = J_new\n",
        "\n",
        "      # Update the cluster centers\n",
        "      for k in range(K):\n",
        "        k_idx_samples, = np.where(r == k)\n",
        "\n",
        "        if len(k_idx_samples) > 0:\n",
        "            mu[k] = x[k_idx_samples].mean(axis=0)\n",
        "        else:\n",
        "            mu[k] = x[np.random.choice(N)]\n",
        "\n",
        "    print(\"Did not reach convergence\")\n",
        "    return (mu, r, self.max_iter)"
      ],
      "metadata": {
        "id": "R6bAwILF153J"
      },
      "execution_count": 35,
      "outputs": []
    },
    {
      "cell_type": "code",
      "source": [
        "import matplotlib.pyplot as plt\n",
        "import os\n",
        "\n",
        "def transform_image(image, code_vectors):\n",
        "  \"\"\"\n",
        "  Quantize the image using the code_vectors.\n",
        "  Return a new image from the image by replacing each RGB value in the image\n",
        "  with the nearest code vectors (nearest by Euclidean Distance)\n",
        "  \"\"\"\n",
        "\n",
        "  assert image.shape[2] == 3 and len(image.shape) == 3, \"Image should be a 3-D array with size (?, ?, 3)\"\n",
        "  assert code_vectors.shape[1] == 3 and len(code_vectors.shape) == 2, \"code_vectors should be a 2-D array with size (?, 3)\"\n",
        "\n",
        "  H, W, _ = image.shape\n",
        "  K, _ = code_vectors.shape\n",
        "\n",
        "  new_image = np.zeros(image.shape)\n",
        "\n",
        "  for h in range(H):\n",
        "    for w in range(W):\n",
        "      dist = np.zeros(K)\n",
        "\n",
        "      for k in range(K):\n",
        "        dist[k] = np.inner(image[h, w] - code_vectors[k], image[h, w] - code_vectors[k])\n",
        "\n",
        "      k = np.argmin(dist)\n",
        "      new_image[h, w] = code_vectors[k]\n",
        "\n",
        "  return new_image"
      ],
      "metadata": {
        "id": "WBwunX4kUALL"
      },
      "execution_count": 36,
      "outputs": []
    },
    {
      "cell_type": "code",
      "source": [
        "def kmeans_image_compression(filename):\n",
        "  os.makedirs(\"plots\", exist_ok=True)\n",
        "  os.makedirs(\"results\", exist_ok=True)\n",
        "\n",
        "  im = plt.imread(filename)\n",
        "  N, M = im.shape[:2]\n",
        "  im = im / 255 # Normalize to [0, 1]\n",
        "\n",
        "  # Convert to RGB array\n",
        "  data = im.reshape(N * M, 3)\n",
        "\n",
        "  k_means = KMeans(n_clusters=16, max_iter=100, e=1e-6)\n",
        "  centroids, _, i = k_means.fit(data)\n",
        "\n",
        "  print(f\"RGB centroids computed in {i} iterations\")\n",
        "  new_im = transform_image(im, centroids)\n",
        "\n",
        "  assert new_im.shape == im.shape, \"Shape of transformed image should be same as image\"\n",
        "\n",
        "  mse = np.sum((im - new_im)**2) / (N * M)\n",
        "  print(f\"Mean Squared Error per Pixel is {mse}\")\n",
        "\n",
        "  plt.imsave(\"plots/compressed_colorful_img.png\", new_im)\n",
        "\n",
        "  np.savez(\"results/k_means_compression.npz\", im=im, centroids=centroids, step=i, new_image=new_im, pixel_error=mse)"
      ],
      "metadata": {
        "id": "l03Ms6h5UwAG"
      },
      "execution_count": 37,
      "outputs": []
    },
    {
      "cell_type": "code",
      "source": [
        "kmeans_image_compression(\"baboon.tiff\")"
      ],
      "metadata": {
        "colab": {
          "base_uri": "https://localhost:8080/"
        },
        "id": "I6d9GPjDVwku",
        "outputId": "f54495d0-e072-478d-cc60-40c7102bcebf"
      },
      "execution_count": 38,
      "outputs": [
        {
          "output_type": "stream",
          "name": "stdout",
          "text": [
            "Iteration 0: J = inf\n",
            "Iteration 1: J = 0.0213871498797225\n",
            "Iteration 2: J = 0.013155467082854195\n",
            "Iteration 3: J = 0.0113426576121396\n",
            "Iteration 4: J = 0.010419410011150732\n",
            "Iteration 5: J = 0.010187261407946915\n",
            "Iteration 6: J = 0.010063018072320542\n",
            "Iteration 7: J = 0.009990184912162458\n",
            "Iteration 8: J = 0.00994627603746321\n",
            "Iteration 9: J = 0.0099170297274798\n",
            "Iteration 10: J = 0.009896312820468902\n",
            "Iteration 11: J = 0.009880773669092046\n",
            "Iteration 12: J = 0.00986803558355922\n",
            "Iteration 13: J = 0.009856609203531763\n",
            "Iteration 14: J = 0.009845835778608366\n",
            "Iteration 15: J = 0.009835822537712455\n",
            "Iteration 16: J = 0.00982683564042616\n",
            "Iteration 17: J = 0.009818443777669687\n",
            "Iteration 18: J = 0.009810533955649122\n",
            "Iteration 19: J = 0.009802561625479546\n",
            "Iteration 20: J = 0.009794453484327347\n",
            "Iteration 21: J = 0.009786665740350076\n",
            "Iteration 22: J = 0.00977904502488457\n",
            "Iteration 23: J = 0.009771748463356551\n",
            "Iteration 24: J = 0.00976440194913811\n",
            "Iteration 25: J = 0.0097567890586577\n",
            "Iteration 26: J = 0.009749567193305685\n",
            "Iteration 27: J = 0.00974305914777914\n",
            "Iteration 28: J = 0.009736779204176454\n",
            "Iteration 29: J = 0.009730799799675071\n",
            "Iteration 30: J = 0.009725167287582779\n",
            "Iteration 31: J = 0.0097197042622297\n",
            "Iteration 32: J = 0.00971458582166851\n",
            "Iteration 33: J = 0.009709942962495496\n",
            "Iteration 34: J = 0.009705582187539676\n",
            "Iteration 35: J = 0.009701780315265352\n",
            "Iteration 36: J = 0.00969847812692132\n",
            "Iteration 37: J = 0.009695694587888487\n",
            "Iteration 38: J = 0.009693490594479895\n",
            "Iteration 39: J = 0.009691674358953954\n",
            "Iteration 40: J = 0.009690086433364027\n",
            "Iteration 41: J = 0.009688775136199843\n",
            "RGB centroids computed in 41 iterations\n",
            "Mean Squared Error per Pixel is 0.009687852299625885\n"
          ]
        }
      ]
    }
  ]
}